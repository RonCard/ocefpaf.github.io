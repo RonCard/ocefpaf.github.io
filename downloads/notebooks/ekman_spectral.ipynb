{
 "metadata": {
  "name": ""
 },
 "nbformat": 3,
 "nbformat_minor": 0,
 "worksheets": [
  {
   "cells": [
    {
     "cell_type": "markdown",
     "metadata": {},
     "source": [
      "Starting from the following system of equation:"
     ]
    },
    {
     "cell_type": "markdown",
     "metadata": {},
     "source": [
      "\\begin{align*}\n",
      "-fv &= -\\dfrac{1}{\\rho_o} \\dfrac{\\partial p}{\\partial x} +\\nu_E \\dfrac{\\partial^2u}{\\partial z^2}\\\\\n",
      "+fu &= -\\dfrac{1}{\\rho_o} \\dfrac{\\partial p}{\\partial y} +\\nu_E \\dfrac{\\partial^2v}{\\partial z^2}\\\\\n",
      "0 &= -\\dfrac{1}{\\rho_o} \\dfrac{\\partial p}{\\partial z}\n",
      "\\end{align*}"
     ]
    },
    {
     "cell_type": "markdown",
     "metadata": {},
     "source": [
      "If we align the x\u2013axis with the direction of $\\bar{u}$ we can write the boundary conditions as:"
     ]
    },
    {
     "cell_type": "markdown",
     "metadata": {},
     "source": [
      "\\begin{align*}\n",
      "\\text{at } z=0 \\text{ (bottom): } u &= v = 0 \\\\\n",
      "\\text{at } z>> d \\text{ (interior): } u &= \\bar{u},\\quad v = 0,\\quad p=\\bar{p}(x, y)\n",
      "\\end{align*}"
     ]
    },
    {
     "cell_type": "markdown",
     "metadata": {},
     "source": [
      "\\begin{align*}\n",
      "0 &= -\\dfrac{1}{\\rho_o} \\dfrac{\\partial \\bar{p}}{\\partial x}\\\\\n",
      "f\\bar{u} &= -\\dfrac{1}{\\rho_o} \\dfrac{\\partial \\bar{p}}{\\partial y} = \\text{constant}\n",
      "\\end{align*}"
     ]
    },
    {
     "cell_type": "markdown",
     "metadata": {},
     "source": [
      "Plugin these in the equations above:\n",
      "\n",
      "\\begin{align*}\n",
      "-fv &= \\nu E \\dfrac{d^2u}{d z^2}\\\\\n",
      "f(u - \\bar{u}) &=  \\nu E \\dfrac{d^2v}{d z^2}\n",
      "\\end{align*}\n",
      "\n",
      "we will seek a solution in the form of $u = \\bar{u} + A\\exp(\\lambda z)$ and $v = \\exp(\\lambda z)$, we know that $\\lambda$ is $\\nu^2\\lambda^4+f^2 = 0$,\n",
      "\n",
      "$$\\lambda = \\pm(1\\pm i)\\dfrac{1}{d},$$\n",
      "\n",
      "where $d$ is,\n",
      "\n",
      "$$d = \\sqrt{\\dfrac{2\\nu_E}{f}}$$"
     ]
    },
    {
     "cell_type": "markdown",
     "metadata": {},
     "source": [
      "This solution has a number of important properties.  First and foremost, we\n",
      "notice that the distance over which it approaches the interior solution is on\n",
      "the order of $d$.  Thus, expression above gives the thickness of the boundary\n",
      "layer.  For this reason, $d$ is called the Ekman depth.\n",
      "\n",
      "The preceding solution also tells us that there is, in the boundary layer, a\n",
      "flow transverse to the interior flow ($v \\ne 0$).  Very near the bottom\n",
      "($z \\rightarrow 0$), this component is equal to the downstream velocity\n",
      "($u \\prop v \\prop \\bar{u} z/d$), thus implying that the near-bottom velocity is\n",
      "at 45 degrees to the left of the interior velocity.  (The boundary flow is to\n",
      "the right of the interior flow for $f < 0$.)  Further up, where $u$ reaches a\n",
      "first maximum ($z = 3\\pi d/4$), the velocity in the direction of the flow is\n",
      "greater than in the interior (u = 1.07 \u0304\\bar{u}).  (Viscosity can occasionally\n",
      "fool us!)"
     ]
    },
    {
     "cell_type": "code",
     "collapsed": false,
     "input": [
      "import numpy as np"
     ],
     "language": "python",
     "metadata": {},
     "outputs": [],
     "prompt_number": 1
    },
    {
     "cell_type": "code",
     "collapsed": false,
     "input": [
      "def ekmanh(h, z):\n",
      "    if False:  # No pressure gradient, du/dz=1 dv/dz=0.\n",
      "        u = (np.sin(h) * np.sinh(h) * (np.cosh(z) * np.sin(z) - np.cos(z) * np.sinh(z)) + np.cos(h) * np.cosh(h) * (np.cosh(z) * np.sin(z) + np.cos(z) * np.sinh(z))) / (np.cos(2 * h) + np.cosh(2 * h))\n",
      "        v = (-np.sin(h) * np.sinh(h) * (np.cosh(z) * np.sin(z) + np.cos(z) * np.sinh(z)) + np.cos(h) * np.cosh(h) * (np.cosh(z) * np.sin(z) -np.cos(z) * np.sinh(z))) / (np.cos(2 * h) + np.cosh(2 * h))\n",
      "\n",
      "    if True:  # No wind stress, ug = 1, vg=0.\n",
      "        u = -np.exp(-z) * (np.exp(2 * h) * ( 1 + np.exp(2 * z)) * np.cos(2 * h - z) + (np.exp(4 * h) - np.exp(2 * z)) * np.cos(z)) / (1 + np.exp(4 * h) + 2 * np.exp(2 * h) * np.cos(2 * h))\n",
      "        v =  np.exp(-z) * (np.exp(2 * h) * (-1 + np.exp(2 * z)) * np.sin(2 * h - z) + (np.exp(4 * h) - np.exp(2 * z)) * np.sin(z)) / (1 + np.exp(4 * h) + 2 * np.exp(2 * h) * np.cos(2 * h))\n",
      "\n",
      "    return u, v"
     ],
     "language": "python",
     "metadata": {},
     "outputs": [],
     "prompt_number": 8
    },
    {
     "cell_type": "code",
     "collapsed": false,
     "input": [
      "# Parametes:\n",
      "nu = 0.01\n",
      "h = 100\n",
      "f = 0.0001\n",
      "tauy = 0\n",
      "taux = 10e-6 * 10 * 10 * 0\n",
      "pressy = 9.81 * 1/1000000\n",
      "pressx = 0\n",
      "KM = 400\n",
      "dek = np.sqrt(2 * nu / f)\n",
      "    \n",
      "def spectralekman(N):\n",
      "    # 1st.\n",
      "    j = np.arange(N)\n",
      "    s = 2 * np.sqrt(2 * h) / (np.pi * (2 * (j+1)-1))\n",
      "    phih = np.sqrt(2 / h) * (-1)**(j)\n",
      "    eigen = (2 * (j+1)-1)**2 * np.pi * np.pi * nu / (4 * h**2)\n",
      "    FX = -pressx * s + taux * phih\n",
      "    FY = -pressy * s + tauy * phih\n",
      "    a = (eigen * FX + f * FY) / (eigen**2 + f**2)\n",
      "    b = (eigen * FY - f * FX) / (eigen**2 + f**2)\n",
      "\n",
      "    # 2nd.\n",
      "    U = np.zeros(KM)\n",
      "    V = np.zeros_like(U)\n",
      "    uex = np.zeros_like(U)\n",
      "    vex = np.zeros_like(U)\n",
      "    z = (np.arange(1, KM + 1) - 1) * h / (KM - 1)\n",
      "    for j in np.arange(N)[::-1]:\n",
      "        U += a[j] * np.sqrt(2 / h) * np.sin((2 * (j+1)-1) * np.pi / 2 * z / h)\n",
      "        V += b[j] * np.sqrt(2 / h) * np.sin((2 * (j+1)-1) * np.pi / 2 * z / h)\n",
      "            \n",
      "    uex, vex = ekmanh(h / dek, z / dek)\n",
      "    if True:\n",
      "        uex = -(1 + uex) * pressy / f\n",
      "        vex = -vex * pressy / f\n",
      "\n",
      "    if False:\n",
      "        uex = uex * taux / nu * dek\n",
      "        vex = vex * taux / nu * dek\n",
      "    err = 0\n",
      "    for k in range(0, KM):\n",
      "        err += (U[k] - uex[k])**2 + (V[k] - vex[k])**2\n",
      "\n",
      "    err = np.sqrt(err / KM)\n",
      "    aa = np.log(a**2)\n",
      "    xx = np.log(np.arange(1, N+1))\n",
      "\n",
      "    return uex, vex, U, V, z, err, aa, xx"
     ],
     "language": "python",
     "metadata": {},
     "outputs": [],
     "prompt_number": 27
    },
    {
     "cell_type": "code",
     "collapsed": false,
     "input": [
      "uex, vex, U, V, z, err, aa, xx = spectralekman(N=10)\n",
      "\n",
      "import matplotlib.pyplot as plt\n",
      "\n",
      "fig, ax = plt.subplots(figsize=(4, 5))\n",
      "ax.plot(uex, z, vex, z, U, z, 'r-.', V, z, 'k-.')\n",
      "ax.set_xlabel('velocity')\n",
      "ax.set_ylabel('z')"
     ],
     "language": "python",
     "metadata": {},
     "outputs": [
      {
       "metadata": {},
       "output_type": "pyout",
       "prompt_number": 28,
       "text": [
        "<matplotlib.text.Text at 0x7fc3796e3490>"
       ]
      },
      {
       "metadata": {},
       "output_type": "display_data",
       "png": "[encoded data removed]",
       "text": [
        "<matplotlib.figure.Figure at 0x7fc3798a1bd0>"
       ]
      }
     ],
     "prompt_number": 28
    },
    {
     "cell_type": "code",
     "collapsed": false,
     "input": [
      "fig, ax = plt.subplots()\n",
      "ax.bar(xx, aa + 40)\n",
      "ax.set_xlabel('$\\log(j)$')\n",
      "ax.set_ylabel(r'$\\log(a_j^2)$')"
     ],
     "language": "python",
     "metadata": {},
     "outputs": [
      {
       "metadata": {},
       "output_type": "pyout",
       "prompt_number": 29,
       "text": [
        "<matplotlib.text.Text at 0x7fc3796138d0>"
       ]
      },
      {
       "metadata": {},
       "output_type": "display_data",
       "png": "[encoded data removed]",
       "text": [
        "<matplotlib.figure.Figure at 0x7fc3796119d0>"
       ]
      }
     ],
     "prompt_number": 29
    },
    {
     "cell_type": "code",
     "collapsed": false,
     "input": [],
     "language": "python",
     "metadata": {},
     "outputs": []
    }
   ],
   "metadata": {}
  }
 ]
}