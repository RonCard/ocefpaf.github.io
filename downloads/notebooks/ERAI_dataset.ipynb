{
 "metadata": {
  "name": ""
 },
 "nbformat": 3,
 "nbformat_minor": 0,
 "worksheets": [
  {
   "cells": [
    {
     "cell_type": "markdown",
     "metadata": {},
     "source": [
      "ERA I [dataset](ftp://ftp.cgd.ucar.edu/archive/BUDGETS/ERAI/) and their [explanation](http://www.cgd.ucar.edu/cas/catalog/reanalysis/ecmwf/erai/index.html) used in my PO course."
     ]
    },
    {
     "cell_type": "code",
     "collapsed": false,
     "input": [
      "import iris\n",
      "import numpy as np\n",
      "import numpy.ma as ma\n",
      "import matplotlib.pyplot as plt\n",
      "\n",
      "from brewer2mpl import brewer2mpl"
     ],
     "language": "python",
     "metadata": {},
     "outputs": [],
     "prompt_number": 1
    },
    {
     "cell_type": "code",
     "collapsed": false,
     "input": [
      "cube = iris.load_cube('ERAI.EP.1979-2011.nc')\n",
      "print(cube)"
     ],
     "language": "python",
     "metadata": {},
     "outputs": [
      {
       "output_type": "stream",
       "stream": "stdout",
       "text": [
        "Budget Evaporation minus Precipitation / (kg/m2/s) (time: 396; latitude: 256; longitude: 512)\n",
        "     Dimension coordinates:\n",
        "          time                                          x              -               -\n",
        "          latitude                                      -              x               -\n",
        "          longitude                                     -              -               x\n",
        "     Attributes:\n",
        "          Acknowledgment: -\n",
        "          comment: -\n",
        "          contact: -\n",
        "          conventions: -\n",
        "          creation_date: Thu Feb  2 17:09:42 2012\n",
        "          delta_time: monthly\n",
        "          history: by John Fasullo, Thu Feb  2 17:09:42 2012\n",
        "          institution: -\n",
        "          product: -\n",
        "          references: -\n"
       ]
      }
     ],
     "prompt_number": 9
    },
    {
     "cell_type": "code",
     "collapsed": false,
     "input": [
      "time = cube.coord('time')\n",
      "time"
     ],
     "language": "python",
     "metadata": {},
     "outputs": [
      {
       "metadata": {},
       "output_type": "pyout",
       "prompt_number": 14,
       "text": [
        "DimCoord(array([ 2443875.,  2443906.,  2443934.,  2443965.,  2443995.,  2444026.,\n",
        "        2444056.,  2444087.,  2444118.,  2444148.,  2444179.,  2444209.,\n",
        "        2444240.,  2444271.,  2444300.,  2444331.,  2444361.,  2444392.,\n",
        "        2444422.,  2444453.,  2444484.,  2444514.,  2444545.,  2444575.,\n",
        "        2444606.,  2444637.,  2444665.,  2444696.,  2444726.,  2444757.,\n",
        "        2444787.,  2444818.,  2444849.,  2444879.,  2444910.,  2444940.,\n",
        "        2444971.,  2445002.,  2445030.,  2445061.,  2445091.,  2445122.,\n",
        "        2445152.,  2445183.,  2445214.,  2445244.,  2445275.,  2445305.,\n",
        "        2445336.,  2445367.,  2445395.,  2445426.,  2445456.,  2445487.,\n",
        "        2445517.,  2445548.,  2445579.,  2445609.,  2445640.,  2445670.,\n",
        "        2445701.,  2445732.,  2445761.,  2445792.,  2445822.,  2445853.,\n",
        "        2445883.,  2445914.,  2445945.,  2445975.,  2446006.,  2446036.,\n",
        "        2446067.,  2446098.,  2446126.,  2446157.,  2446187.,  2446218.,\n",
        "        2446248.,  2446279.,  2446310.,  2446340.,  2446371.,  2446401.,\n",
        "        2446432.,  2446463.,  2446491.,  2446522.,  2446552.,  2446583.,\n",
        "        2446613.,  2446644.,  2446675.,  2446705.,  2446736.,  2446766.,\n",
        "        2446797.,  2446828.,  2446856.,  2446887.,  2446917.,  2446948.,\n",
        "        2446978.,  2447009.,  2447040.,  2447070.,  2447101.,  2447131.,\n",
        "        2447162.,  2447193.,  2447222.,  2447253.,  2447283.,  2447314.,\n",
        "        2447344.,  2447375.,  2447406.,  2447436.,  2447467.,  2447497.,\n",
        "        2447528.,  2447559.,  2447587.,  2447618.,  2447648.,  2447679.,\n",
        "        2447709.,  2447740.,  2447771.,  2447801.,  2447832.,  2447862.,\n",
        "        2447893.,  2447924.,  2447952.,  2447983.,  2448013.,  2448044.,\n",
        "        2448074.,  2448105.,  2448136.,  2448166.,  2448197.,  2448227.,\n",
        "        2448258.,  2448289.,  2448317.,  2448348.,  2448378.,  2448409.,\n",
        "        2448439.,  2448470.,  2448501.,  2448531.,  2448562.,  2448592.,\n",
        "        2448623.,  2448654.,  2448683.,  2448714.,  2448744.,  2448775.,\n",
        "        2448805.,  2448836.,  2448867.,  2448897.,  2448928.,  2448958.,\n",
        "        2448989.,  2449020.,  2449048.,  2449079.,  2449109.,  2449140.,\n",
        "        2449170.,  2449201.,  2449232.,  2449262.,  2449293.,  2449323.,\n",
        "        2449354.,  2449385.,  2449413.,  2449444.,  2449474.,  2449505.,\n",
        "        2449535.,  2449566.,  2449597.,  2449627.,  2449658.,  2449688.,\n",
        "        2449719.,  2449750.,  2449778.,  2449809.,  2449839.,  2449870.,\n",
        "        2449900.,  2449931.,  2449962.,  2449992.,  2450023.,  2450053.,\n",
        "        2450084.,  2450115.,  2450144.,  2450175.,  2450205.,  2450236.,\n",
        "        2450266.,  2450297.,  2450328.,  2450358.,  2450389.,  2450419.,\n",
        "        2450450.,  2450481.,  2450509.,  2450540.,  2450570.,  2450601.,\n",
        "        2450631.,  2450662.,  2450693.,  2450723.,  2450754.,  2450784.,\n",
        "        2450815.,  2450846.,  2450874.,  2450905.,  2450935.,  2450966.,\n",
        "        2450996.,  2451027.,  2451058.,  2451088.,  2451119.,  2451149.,\n",
        "        2451180.,  2451211.,  2451239.,  2451270.,  2451300.,  2451331.,\n",
        "        2451361.,  2451392.,  2451423.,  2451453.,  2451484.,  2451514.,\n",
        "        2451545.,  2451576.,  2451605.,  2451636.,  2451666.,  2451697.,\n",
        "        2451727.,  2451758.,  2451789.,  2451819.,  2451850.,  2451880.,\n",
        "        2451911.,  2451942.,  2451970.,  2452001.,  2452031.,  2452062.,\n",
        "        2452092.,  2452123.,  2452154.,  2452184.,  2452215.,  2452245.,\n",
        "        2452276.,  2452307.,  2452335.,  2452366.,  2452396.,  2452427.,\n",
        "        2452457.,  2452488.,  2452519.,  2452549.,  2452580.,  2452610.,\n",
        "        2452641.,  2452672.,  2452700.,  2452731.,  2452761.,  2452792.,\n",
        "        2452822.,  2452853.,  2452884.,  2452914.,  2452945.,  2452975.,\n",
        "        2453006.,  2453037.,  2453066.,  2453097.,  2453127.,  2453158.,\n",
        "        2453188.,  2453219.,  2453250.,  2453280.,  2453311.,  2453341.,\n",
        "        2453372.,  2453403.,  2453431.,  2453462.,  2453492.,  2453523.,\n",
        "        2453553.,  2453584.,  2453615.,  2453645.,  2453676.,  2453706.,\n",
        "        2453737.,  2453768.,  2453796.,  2453827.,  2453857.,  2453888.,\n",
        "        2453918.,  2453949.,  2453980.,  2454010.,  2454041.,  2454071.,\n",
        "        2454102.,  2454133.,  2454161.,  2454192.,  2454222.,  2454253.,\n",
        "        2454283.,  2454314.,  2454345.,  2454375.,  2454406.,  2454436.,\n",
        "        2454467.,  2454498.,  2454527.,  2454558.,  2454588.,  2454619.,\n",
        "        2454649.,  2454680.,  2454711.,  2454741.,  2454772.,  2454802.,\n",
        "        2454833.,  2454864.,  2454892.,  2454923.,  2454953.,  2454984.,\n",
        "        2455014.,  2455045.,  2455076.,  2455106.,  2455137.,  2455167.,\n",
        "        2455198.,  2455229.,  2455257.,  2455288.,  2455318.,  2455349.,\n",
        "        2455379.,  2455410.,  2455441.,  2455471.,  2455502.,  2455532.,\n",
        "        2455563.,  2455594.,  2455622.,  2455653.,  2455683.,  2455714.,\n",
        "        2455744.,  2455775.,  2455806.,  2455836.,  2455867.,  2455897.]), standard_name='time', units=Unit('unknown'), long_name=u'Time', var_name='time', attributes={'delta_t': 'monthly', 'invalid_units': u'julian day', 'actual_range': array([2443875, 2455897], dtype=int32), 'time_step': '0000-01-00 00:00:00.00'})"
       ]
      }
     ],
     "prompt_number": 14
    },
    {
     "cell_type": "code",
     "collapsed": false,
     "input": [],
     "language": "python",
     "metadata": {},
     "outputs": []
    },
    {
     "cell_type": "code",
     "collapsed": false,
     "input": [
      "def make_basemap(projection='robin', figsize=(10, 5), resolution='c'):\n",
      "    fig, ax = plt.subplots(figsize=figsize)\n",
      "    m = Basemap(projection=projection, resolution=resolution,\n",
      "                lon_0=0, ax=ax)\n",
      "    m.drawcoastlines()\n",
      "    m.fillcontinents(color='0.85')\n",
      "    parallels = np.arange(-60, 90, 30.)\n",
      "    meridians = np.arange(-360, 360, 60.)\n",
      "    m.drawparallels(parallels, labels=[1, 0, 0, 0])\n",
      "    m.drawmeridians(meridians, labels=[0, 0, 1, 0])\n",
      "    return fig, m\n",
      "\n",
      "\n",
      "def annual_average(fname, var):\n",
      "    nc = Dataset(fname)\n",
      "    var_info = nc.variables[var]\n",
      "    if False:\n",
      "        print(var_info.units)\n",
      "    try:\n",
      "        NA = var_info.missing_value\n",
      "        data =  ma.masked_greater_equal(nc.variables[var][:], NA)\n",
      "    except AttributeError:\n",
      "        data =  nc.variables[var][:]\n",
      "        \n",
      "    data = data.mean(axis=0)\n",
      "    lon, lat = nc.variables['lon'][:], nc.variables['lat'][:]\n",
      "    lon, lat = np.meshgrid(lon, lat)\n",
      "    return data, lon, lat\n",
      "\n",
      "def mask_land(m, data, lon, lat):\n",
      "    mask = np.array([m.is_land(x, y) for x, y in\n",
      "                     zip(*m(lon.ravel(), lat.ravel()))]).reshape(lon.shape)\n",
      "    return ma.masked_array(data, mask)\n",
      "\n",
      "cmap = brewer2mpl.get_map('YlGn', 'sequential', 9).get_mpl_colormap()"
     ],
     "language": "python",
     "metadata": {},
     "outputs": []
    },
    {
     "cell_type": "code",
     "collapsed": false,
     "input": [
      "fig, m = make_basemap()\n",
      "EP, lon, lat = annual_average('ERAI.EP.1979-2011.nc', 'EP')\n",
      "EP = mask_land(m, EP, lon, lat)\n",
      "cs = m.pcolormesh(lon, lat, EP, latlon=True, cmap=cmap)\n",
      "m.colorbar(cs)"
     ],
     "language": "python",
     "metadata": {},
     "outputs": []
    },
    {
     "cell_type": "code",
     "collapsed": false,
     "input": [
      "fig, m = make_basemap()\n",
      "QTEN, lon, lat = annual_average('ERAI.QTEN.1979-2012.nc', 'QTEN')\n",
      "QTEN = mask_land(m, QTEN, lon, lat)\n",
      "cs = m.pcolormesh(lon, lat, QTEN, latlon=True, cmap=plt.cm.Paired_r)\n",
      "m.colorbar(cs)"
     ],
     "language": "python",
     "metadata": {},
     "outputs": []
    }
   ],
   "metadata": {}
  }
 ]
}