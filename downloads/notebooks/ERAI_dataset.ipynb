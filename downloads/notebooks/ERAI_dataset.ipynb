{
 "metadata": {
  "name": ""
 },
 "nbformat": 3,
 "nbformat_minor": 0,
 "worksheets": [
  {
   "cells": [
    {
     "cell_type": "code",
     "collapsed": false,
     "input": [
      "from IPython.core.display import HTML\n",
      "\n",
      "with open('creative_commons.txt', 'r') as f:\n",
      "    html = f.read()\n",
      "    \n",
      "with open('./styles/custom.css', 'r') as f:\n",
      "    styles = f.read()\n",
      "    \n",
      "HTML(styles)\n",
      "\n",
      "name = 'ERAI_dataset'\n",
      "\n",
      "html = \"\"\"\n",
      "<small>\n",
      "<p> This post was written as an IPython notebook. It is available for <a href=\"http://ocef\n",
      "paf.github.com/downloads/notebooks/%s.ipynb\">download</a> or as a static <a href=\"http://\n",
      "nbviewer.ipython.org/url/ocefpaf.github.com/downloads/notebooks/%s.ipynb\">html</a>.</p>\n",
      "<p></p>\n",
      "%s \"\"\" % (name, name, html)"
     ],
     "language": "python",
     "metadata": {},
     "outputs": [],
     "prompt_number": 1
    },
    {
     "cell_type": "markdown",
     "metadata": {},
     "source": [
      "ERA I [dataset](ftp://ftp.cgd.ucar.edu/archive/BUDGETS/ERAI/) and their [explanation](http://www.cgd.ucar.edu/cas/catalog/reanalysis/ecmwf/erai/index.html) used in my PO course."
     ]
    },
    {
     "cell_type": "code",
     "collapsed": false,
     "input": [
      "import iris\n",
      "import numpy as np\n",
      "import numpy.ma as ma\n",
      "import matplotlib.pyplot as plt\n",
      "\n",
      "from brewer2mpl import brewer2mpl"
     ],
     "language": "python",
     "metadata": {},
     "outputs": [],
     "prompt_number": 1
    },
    {
     "cell_type": "code",
     "collapsed": false,
     "input": [
      "cube = iris.load_cube('./data/ERAI.EP.1979-2011.nc')\n",
      "print(cube)"
     ],
     "language": "python",
     "metadata": {},
     "outputs": [
      {
       "output_type": "stream",
       "stream": "stdout",
       "text": [
        "Budget Evaporation minus Precipitation / (kg/m2/s) (*ANONYMOUS*: 396; latitude: 256; longitude: 512)\n",
        "     Dimension coordinates:\n",
        "          latitude                                             -              x               -\n",
        "          longitude                                            -              -               x\n",
        "     Auxiliary coordinates:\n",
        "          time                                                 x              -               -\n",
        "     Attributes:\n",
        "          Acknowledgment: -\n",
        "          comment: -\n",
        "          contact: -\n",
        "          conventions: -\n",
        "          creation_date: Thu Feb  2 17:09:42 2012\n",
        "          delta_time: monthly\n",
        "          history: by John Fasullo, Thu Feb  2 17:09:42 2012\n",
        "          institution: -\n",
        "          product: -\n",
        "          references: -\n"
       ]
      },
      {
       "output_type": "stream",
       "stream": "stderr",
       "text": [
        "/usr/lib/python2.7/site-packages/iris/fileformats/_pyke_rules/compiled_krb/fc_rules_cf_fc.py:1147: UserWarning: Ignoring netCDF variable 'time' invalid units 'julian day'\n",
        "  warnings.warn(msg.format(msg_name, msg_units))\n",
        "/usr/lib/python2.7/site-packages/iris/fileformats/_pyke_rules/compiled_krb/fc_rules_cf_fc.py:1280: UserWarning: Failed to create 'time' dimension coordinate: The points array must be strictly monotonic.\n",
        "Gracefully creating 'time' auxiliary coordinate instead.\n",
        "  error=e_msg))\n"
       ]
      }
     ],
     "prompt_number": 2
    },
    {
     "cell_type": "code",
     "collapsed": false,
     "input": [
      "time = cube.coord('time')\n",
      "time[0]"
     ],
     "language": "python",
     "metadata": {},
     "outputs": [
      {
       "metadata": {},
       "output_type": "pyout",
       "prompt_number": 3,
       "text": [
        "AuxCoord(array([ 2443875.]), standard_name='time', units=Unit('unknown'), long_name=u'Time', attributes={'delta_t': 'monthly', 'actual_range': array([2443875, 2455897], dtype=int32), 'invalid_units': u'julian day', 'time_step': '0000-01-00 00:00:00.00'})"
       ]
      }
     ],
     "prompt_number": 3
    },
    {
     "cell_type": "code",
     "collapsed": false,
     "input": [
      "from mpl_toolkits.basemap import Basemap\n",
      "\n",
      "def make_basemap(projection='robin', figsize=(10, 5), resolution='c'):\n",
      "    fig, ax = plt.subplots(figsize=figsize)\n",
      "    m = Basemap(projection=projection, resolution=resolution,\n",
      "                lon_0=0, ax=ax)\n",
      "    m.drawcoastlines()\n",
      "    m.fillcontinents(color='0.85')\n",
      "    parallels = np.arange(-60, 90, 30.)\n",
      "    meridians = np.arange(-360, 360, 60.)\n",
      "    m.drawparallels(parallels, labels=[1, 0, 0, 0])\n",
      "    m.drawmeridians(meridians, labels=[0, 0, 1, 0])\n",
      "    return fig, m\n",
      "\n",
      "\n",
      "from netCDF4 import Dataset\n",
      "def annual_average(fname, var):\n",
      "    nc = Dataset(fname)\n",
      "    var_info = nc.variables[var]\n",
      "    if False:\n",
      "        print(var_info.units)\n",
      "    try:\n",
      "        NA = var_info.missing_value\n",
      "        data =  ma.masked_greater_equal(nc.variables[var][:], NA)\n",
      "    except AttributeError:\n",
      "        data =  nc.variables[var][:]\n",
      "        \n",
      "    data = data.mean(axis=0)\n",
      "    lon, lat = nc.variables['lon'][:], nc.variables['lat'][:]\n",
      "    lon, lat = np.meshgrid(lon, lat)\n",
      "    return data, lon, lat\n",
      "\n",
      "def mask_land(m, data, lon, lat):\n",
      "    mask = np.array([m.is_land(x, y) for x, y in\n",
      "                     zip(*m(lon.ravel(), lat.ravel()))]).reshape(lon.shape)\n",
      "    return ma.masked_array(data, mask)\n",
      "\n",
      "cmap = brewer2mpl.get_map('YlGn', 'sequential', 9).get_mpl_colormap()"
     ],
     "language": "python",
     "metadata": {},
     "outputs": []
    },
    {
     "cell_type": "code",
     "collapsed": false,
     "input": [
      "fig, m = make_basemap()\n",
      "EP, lon, lat = annual_average('./data/ERAI.EP.1979-2011.nc', 'EP')\n",
      "EP = mask_land(m, EP, lon, lat)\n",
      "cs = m.pcolormesh(lon, lat, EP, latlon=True, cmap=cmap)\n",
      "m.colorbar(cs)"
     ],
     "language": "python",
     "metadata": {},
     "outputs": []
    },
    {
     "cell_type": "code",
     "collapsed": false,
     "input": [
      "HTML(html)"
     ],
     "language": "python",
     "metadata": {},
     "outputs": [
      {
       "html": [
        "\n",
        "<small>\n",
        "<p> This post was written as an IPython notebook. It is available for <a href=\"http://ocef\n",
        "paf.github.com/downloads/notebooks/ERAI_dataset.ipynb\">download</a> or as a static <a href=\"http://\n",
        "nbviewer.ipython.org/url/ocefpaf.github.com/downloads/notebooks/ERAI_dataset.ipynb\">html</a>.</p>\n",
        "<p></p>\n",
        "<a rel=\"license\" href=\"http://creativecommons.org/licenses/by-sa/4.0/\"><img\n",
        "alt=\"Creative Commons License\" style=\"border-width:0\"\n",
        "src=\"http://i.creativecommons.org/l/by-sa/4.0/88x31.png\" /></a><br /><span\n",
        "xmlns:dct=\"http://purl.org/dc/terms/\"\n",
        "property=\"dct:title\">python4oceanographers</span> by <a\n",
        "xmlns:cc=\"http://creativecommons.org/ns#\" href=\"http://ocefpaf.github.io/\"\n",
        "property=\"cc:attributionName\" rel=\"cc:attributionURL\">Filipe Fernandes</a> is\n",
        "licensed under a <a rel=\"license\"\n",
        "href=\"http://creativecommons.org/licenses/by-sa/4.0/\">Creative Commons\n",
        "Attribution-ShareAlike 4.0 International License</a>.<br />Based on a work at <a\n",
        "xmlns:dct=\"http://purl.org/dc/terms/\" href=\"http://ocefpaf.github.io/\"\n",
        "rel=\"dct:source\">http://ocefpaf.github.io/</a>.\n",
        " "
       ],
       "metadata": {},
       "output_type": "pyout",
       "prompt_number": 2,
       "text": [
        "<IPython.core.display.HTML at 0x30819d0>"
       ]
      }
     ],
     "prompt_number": 2
    }
   ],
   "metadata": {}
  }
 ]
}