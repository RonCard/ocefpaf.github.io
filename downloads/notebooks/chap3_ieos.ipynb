{
 "metadata": {
  "name": "",
  "signature": "sha256:1529d728f2138f3c96ca218f319660fa865d189adcf373d0f19b1084ec32aed6"
 },
 "nbformat": 3,
 "nbformat_minor": 0,
 "worksheets": [
  {
   "cells": [
    {
     "cell_type": "code",
     "collapsed": false,
     "input": [
      "from IPython.core.display import HTML\n",
      "\n",
      "with open('creative_commons.txt', 'r') as f:\n",
      "    html = f.read()\n",
      "    \n",
      "with open('./styles/custom.css', 'r') as f:\n",
      "    styles = f.read()\n",
      "    \n",
      "HTML(styles)\n",
      "\n",
      "name = 'chap3_ieos'\n",
      "\n",
      "html = \"\"\"\n",
      "<small>\n",
      "<p> This post was written as an IPython notebook. It is available for <a href=\"http://ocef\n",
      "paf.github.com/downloads/notebooks/%s.ipynb\">download</a> or as a static <a href=\"http://\n",
      "nbviewer.ipython.org/url/ocefpaf.github.com/downloads/notebooks/%s.ipynb\">html</a>.</p>\n",
      "<p></p>\n",
      "%s \"\"\" % (name, name, html)"
     ],
     "language": "python",
     "metadata": {},
     "outputs": [],
     "prompt_number": 1
    },
    {
     "cell_type": "markdown",
     "metadata": {},
     "source": [
      "This post is part of the\n",
      "[Introduction to Geophysical Fluid Dynamics, 2nd Edition](http://store.elsevier.com/product.jsp?isbn=9780120887590)\n",
      "post series on converting the MatlabTM examples to python.  Chapter 3 contains\n",
      "just one mfile with an implementation for the Equation of State-80\n",
      "(Chapter 3.3 -- Equation of State.)\n",
      "\n",
      "But before we go any further it is worth mentioning that the Equation of State$^1$\n",
      "([EOS-80](http://www.teos-10.org/preteos10_software/)) is superseded by the\n",
      "Thermodynamic Equation of State$^2$ ([TEOS-10](http://unesdoc.unesco.org/images/0018/001881/188170e.pdf)).\n",
      "Also, both EOS-80 and TEOS-10 have been implemented for FORTRAN, MatlabTM and\n",
      "of-course Python ([gsw](https://github.com/ocefpaf/python-gsw) and [seawater](https://github.com/ocefpaf/python-seawater))\n",
      "\n",
      "Now we can start the post!  I usually ask my students to open and inspect all\n",
      "code they will use.  Never using code in a \"black box\" manner.\n",
      "\n",
      "For that goal, EOS-80 (eqs. 1), is a great exercise: easy to understand, quick\n",
      "to implement and with great accompanying\n",
      "[documentation](https://raw.github.com/ocefpaf/python-seawater/master/docs/UNESCO-TechPaper44_eo.pdf)$^1$.\n",
      "\n",
      "<!--\n",
      "Compare values of density obtained with the full equation of state for seawater\n",
      "*ies80* with values obtained from the linearized version (3.4), for various\n",
      "trial values of $T$ and $S$.  Then compare density differences between two\n",
      "different water masses, calculated again with both state equations.  Finally,\n",
      "using numerical derivatives of the full equation of state with, can you provide\n",
      "a numerical estimate for the expansion coefficients $\\alpha$ and $\\beta$\n",
      "introduced in (3.4) for a Mediterranean water mass of $T_o$ = 12.8$^{\\circ}$C,\n",
      "$S_o$ = 38.4?\n",
      "\n",
      "Valid for S = 0 to 42 ; t = -2 to 40$^{\\circ}$C ; p = 0 to 10000 dbar\n",
      "-->"
     ]
    },
    {
     "cell_type": "markdown",
     "metadata": {},
     "source": [
      "$$ \\rho(S, t, p) =  \\dfrac{\\rho(S, t, 0)}{\\left[ \\dfrac{1 - p}{K(S, t, p)} \\right]} \\quad\\quad \\text{(1)}$$"
     ]
    },
    {
     "cell_type": "code",
     "collapsed": false,
     "input": [
      "import numpy as np\n",
      "\n",
      "def ies80(s, t, p=0):\n",
      "    \"\"\"\n",
      "    International Equation of State of sea water:\n",
      "    \n",
      "    rho = ies80(s, t, p)\n",
      "\n",
      "    Function that calculates seawater density from temperature, salinity and pressure.\n",
      "    Be aware of units.\n",
      "\n",
      "    Input\n",
      "    -----\n",
      "    s : salinity\n",
      "    t : temperature [\u00b0C]\n",
      "    p : pressure [bars]\n",
      "    \n",
      "    Return\n",
      "    ------\n",
      "    rho density : [kg/m3]\n",
      "    \n",
      "    Original Author\n",
      "    ---------------\n",
      "    Olivier Le Calv\u00e9 \n",
      "    E-mail : lecalve@isitv.univ-tln.fr\n",
      "    http://lecalve.univ-tln.fr/index.html\n",
      "    \"\"\"\n",
      "    \n",
      "    s, t, p = np.broadcast_arrays(s, t, p)\n",
      "\n",
      "    r0_coef = [999.842594, 6.793952e-2, -9.09529e-3, 1.001685e-4, -1.120083e-6,\n",
      "               6.536332e-9, 8.24493e-1, -4.0899e-3, 7.6438e-5, -8.2467e-7,\n",
      "               5.3875e-9, -5.72466e-3, 1.0227e-4, -1.6546e-6, 4.8314e-4]\n",
      "    \n",
      "    rho_0 = (np.polyval(r0_coef[5::-1], t) +\n",
      "             np.polyval(r0_coef[10:5:-1], t) * s +\n",
      "             np.polyval(r0_coef[13:10:-1], t) * s**1.5 +\n",
      "             r0_coef[14] * s**2)\n",
      "    \n",
      "    K_coef = [19652.21, 148.4206, -2.327105, 1.360447e-2, -5.155288e-5,\n",
      "              3.239908, 1.43713e-3, 1.16092e-4, -5.77905e-7, 8.50935e-5,\n",
      "              -6.12293e-6, 5.2787e-8, 54.6746, -0.603459, 1.09987e-2,\n",
      "              -6.1670e-5, 7.944e-2, 1.6483e-2, -5.3009e-4, 2.2838e-3,\n",
      "              -1.0981e-5, -1.6078e-6, 1.91075e-4, -9.9348e-7, 2.0816e-8,\n",
      "              9.1697e-10]\n",
      "    \n",
      "    K = (np.polyval(K_coef[4::-1], t) +\n",
      "         np.polyval(K_coef[8:4:-1], t) * p +\n",
      "         np.polyval(K_coef[11:8:-1], t) * p**2 +\n",
      "         np.polyval(K_coef[15:11:-1], t) * s +\n",
      "         np.polyval(K_coef[18:15:-1], t) * s**1.5 +\n",
      "         np.polyval(K_coef[21:18:-1], t) * p * s +\n",
      "         K_coef[22] * p * s**1.5 +\n",
      "         np.polyval(K_coef[25:22:-1], t) * p**2 * s)\n",
      "    \n",
      "    rho = rho_0 / (1-p / K)\n",
      "\n",
      "    return rho"
     ],
     "language": "python",
     "metadata": {},
     "outputs": [],
     "prompt_number": 2
    },
    {
     "cell_type": "markdown",
     "metadata": {},
     "source": [
      "The book asks the students to compare the calculated values from the non-linear version\n",
      "with a simpler linear (eq. 2) version of the Equation of State.  Also, tell students to\n",
      "estimate $\\alpha$ and $\\beta$ (Thermal expansion and salinity contraction coefficients).\n",
      "\n",
      "I will leave that for my class, but here I'll plot a T-S diagram with contours from\n",
      "both versions.\n",
      "\n",
      "$$\\rho = \\rho_o \\left[ 1-\\alpha \\left( T - T_o \\right) + \\beta\\left( S - S_o \\right) \\right] \\quad\\quad \\text{(2)}$$\n",
      "\n",
      "Where:\n",
      "\n",
      "* $\\rho_o = 1028$ kg m$^{-3}$\n",
      "* $T_o = 10^{\\circ}$C = 283 K\n",
      "* $S_o = 35$\n",
      "* $\\alpha = 1.7 \\times 10^{-4}$ K$^{-1}$\n",
      "* $\\beta = 7.6 \\times 10^{-4}$"
     ]
    },
    {
     "cell_type": "code",
     "collapsed": false,
     "input": [
      "def linear_eos(S, T):\n",
      "    S, T = np.broadcast_arrays(S, T)\n",
      "    rho_o, To, So = 1028, 10, 35\n",
      "    alpha, beta = 1.7e-4, 7.6e-4\n",
      "    rho = rho_o * (1 - alpha * (T-To) + beta * (S-So))\n",
      "    return rho"
     ],
     "language": "python",
     "metadata": {},
     "outputs": [],
     "prompt_number": 3
    },
    {
     "cell_type": "code",
     "collapsed": false,
     "input": [
      "import matplotlib.pyplot as plt\n",
      "\n",
      "S = np.linspace(0, 42, 100)\n",
      "t = np.linspace(-2, 40, 100)\n",
      "S, t = np.meshgrid(S, t)\n",
      "\n",
      "sigma_full = ies80(S, t, p=0) - 1000\n",
      "sigma_linear = linear_eos(S, t) - 1000\n",
      "\n",
      "cnt = np.arange(-7, 35, 5)\n",
      "\n",
      "fig, (ax0, ax1) = plt.subplots(ncols=2, figsize=(8, 4))\n",
      "cs0 = ax0.contour(S, t, sigma_full, colors='blue', levels=cnt)\n",
      "cs1 = ax0.contour(S, t, sigma_linear, colors='red', alpha=0.5, levels=cnt)\n",
      "ax0.clabel(cs0, fontsize=9, inline=1, fmt='%2i')\n",
      "ax0.clabel(cs1, fontsize=9, inline=1, fmt='%2i')\n",
      "ax0.set_xlabel('Salinity')\n",
      "ax0.set_ylabel('Temperature [$^{\\circ}$C]')\n",
      "\n",
      "ax1.axis([32, 34, 20, 30.0])\n",
      "cs0 = ax1.contour(S, t, sigma_full, colors='blue', levels=[21, 23, 24])\n",
      "cs1 = ax1.contour(S, t, sigma_linear, colors='red', alpha=0.5, levels=[21, 23, 24])\n",
      "ax1.clabel(cs0, fontsize=9, inline=1, fmt='%2i')\n",
      "ax1.clabel(cs1, fontsize=9, inline=1, fmt='%2i')\n",
      "ax1.set_xlabel('Salinity')\n",
      "ax1.set_ylabel('Temperature [$^{\\circ}$C]')"
     ],
     "language": "python",
     "metadata": {},
     "outputs": [
      {
       "metadata": {},
       "output_type": "pyout",
       "prompt_number": 4,
       "text": [
        "<matplotlib.text.Text at 0x7fede17b3990>"
       ]
      },
      {
       "metadata": {},
       "output_type": "display_data",
       "png": "[encoded data removed]",
       "text": [
        "<matplotlib.figure.Figure at 0x7fede204b2d0>"
       ]
      }
     ],
     "prompt_number": 4
    },
    {
     "cell_type": "markdown",
     "metadata": {},
     "source": [
      "Hopefully that will motive students to inspect code and create some discussion\n",
      "on linear and non-linear version of the Equation of State."
     ]
    },
    {
     "cell_type": "code",
     "collapsed": false,
     "input": [
      "HTML(html)"
     ],
     "language": "python",
     "metadata": {},
     "outputs": [
      {
       "html": [
        "\n",
        "<small>\n",
        "<p> This post was written as an IPython notebook. It is available for <a href=\"http://ocef\n",
        "paf.github.com/downloads/notebooks/chap3_ieos.ipynb\">download</a> or as a static <a href=\"http://\n",
        "nbviewer.ipython.org/url/ocefpaf.github.com/downloads/notebooks/chap3_ieos.ipynb\">html</a>.</p>\n",
        "<p></p>\n",
        "<a rel=\"license\" href=\"http://creativecommons.org/licenses/by-sa/4.0/\"><img\n",
        "alt=\"Creative Commons License\" style=\"border-width:0\"\n",
        "src=\"http://i.creativecommons.org/l/by-sa/4.0/88x31.png\" /></a><br /><span\n",
        "xmlns:dct=\"http://purl.org/dc/terms/\"\n",
        "property=\"dct:title\">python4oceanographers</span> by <a\n",
        "xmlns:cc=\"http://creativecommons.org/ns#\" href=\"http://ocefpaf.github.io/\"\n",
        "property=\"cc:attributionName\" rel=\"cc:attributionURL\">Filipe Fernandes</a> is\n",
        "licensed under a <a rel=\"license\"\n",
        "href=\"http://creativecommons.org/licenses/by-sa/4.0/\">Creative Commons\n",
        "Attribution-ShareAlike 4.0 International License</a>.<br />Based on a work at <a\n",
        "xmlns:dct=\"http://purl.org/dc/terms/\" href=\"http://ocefpaf.github.io/\"\n",
        "rel=\"dct:source\">http://ocefpaf.github.io/</a>.\n",
        " "
       ],
       "metadata": {},
       "output_type": "pyout",
       "prompt_number": 5,
       "text": [
        "<IPython.core.display.HTML at 0x7fede20825d0>"
       ]
      }
     ],
     "prompt_number": 5
    },
    {
     "cell_type": "markdown",
     "metadata": {},
     "source": [
      "1. UNESCO (1985) The international system of units (SI) in oceanography. UNESCO Technical Papers No.45, IAPSO Pub. Sci. No. 32, Paris, France.\n",
      "2. McDougall, T.J., R. Feistel, F. J. Millero, D. R. Jackett, D. G. Wright, B. A. King, G. M. Marion, C. T. A. Chen and P. Spitzer, 2009: Calculation of the Thermophysical Properties of Seawater, Global Shipbased Repeat Hydrography Manual, IOCCP Report No. 14, ICPO Publication Series no. 134"
     ]
    }
   ],
   "metadata": {}
  }
 ]
}
