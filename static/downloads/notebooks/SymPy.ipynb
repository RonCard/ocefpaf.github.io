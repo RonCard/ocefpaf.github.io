{
 "metadata": {
  "name": ""
 },
 "nbformat": 3,
 "nbformat_minor": 0,
 "worksheets": [
  {
   "cells": [
    {
     "cell_type": "code",
     "collapsed": false,
     "input": [
      "from IPython.core.display import HTML\n",
      "def css_styling():\n",
      "    styles = open(\"./styles/custom.css\", \"r\").read()\n",
      "    return HTML(styles)\n",
      "css_styling()"
     ],
     "language": "python",
     "metadata": {},
     "outputs": [
      {
       "html": [
        "<style>\n",
        "    @font-face {\n",
        "        font-family: \"Computer Modern\";\n",
        "        src: url('http://mirrors.ctan.org/fonts/cm-unicode/fonts/otf/cmunss.otf');\n",
        "    }\n",
        "    div.cell{\n",
        "        width:800px;\n",
        "/*        margin-left:16% !important;\n",
        "        margin-right:auto;*/\n",
        "        margin-left:auto;\n",
        "        margin-right:16% !important;\n",
        "    }\n",
        "    h1 {\n",
        "        font-family: Helvetica, serif;\n",
        "    }\n",
        "    h2 {\n",
        "        font-family: Helvetica, serif;\n",
        "    }\n",
        "    h4{\n",
        "        margin-top:12px;\n",
        "        margin-bottom: 3px;\n",
        "       }\n",
        "    div.text_cell_render{\n",
        "        font-family: Computer Modern, \"Helvetica Neue\", Arial, Helvetica, Geneva, sans-serif;\n",
        "        line-height: 135%;\n",
        "        font-size: 120%;\n",
        "        width:600px;\n",
        "        margin-left:auto;\n",
        "        margin-right:auto;\n",
        "    }\n",
        "    .CodeMirror{\n",
        "            font-family: \"Source Code Pro\", source-code-pro,Consolas, monospace;\n",
        "    }\n",
        "/*    .prompt{\n",
        "        display: None;\n",
        "    }*/\n",
        "    .text_cell_render h5 {\n",
        "        font-weight: 300;\n",
        "        font-size: 16pt;\n",
        "        color: #4057A1;\n",
        "        font-style: italic;\n",
        "        margin-bottom: .5em;\n",
        "        margin-top: 0.5em;\n",
        "        display: block;\n",
        "    }\n",
        "\n",
        "    .warning{\n",
        "        color: rgb( 240, 20, 20 )\n",
        "        }\n",
        "</style>\n",
        "<script>\n",
        "    MathJax.Hub.Config({\n",
        "                        TeX: {\n",
        "                           extensions: [\"AMSmath.js\"]\n",
        "                           },\n",
        "                tex2jax: {\n",
        "                    inlineMath: [ ['$','$'], [\"\\\\(\",\"\\\\)\"] ],\n",
        "                    displayMath: [ ['$$','$$'], [\"\\\\[\",\"\\\\]\"] ]\n",
        "                },\n",
        "                displayAlign: 'center', // Change this to 'center' to center equations.\n",
        "                \"HTML-CSS\": {\n",
        "                    styles: {'.MathJax_Display': {\"margin\": 4}}\n",
        "                }\n",
        "        });\n",
        "</script>\n"
       ],
       "metadata": {},
       "output_type": "pyout",
       "prompt_number": 14,
       "text": [
        "<IPython.core.display.HTML at 0x53c4e90>"
       ]
      }
     ],
     "prompt_number": 14
    },
    {
     "cell_type": "code",
     "collapsed": false,
     "input": [
      "from __future__ import division"
     ],
     "language": "python",
     "metadata": {},
     "outputs": [],
     "prompt_number": 1
    },
    {
     "cell_type": "code",
     "collapsed": false,
     "input": [
      "import sympy\n",
      "import numpy\n",
      "\n",
      "print(\"SymPy version: %s\" % sympy.__version__)\n",
      "print(\"NumPy version: %s\" % numpy.__version__)"
     ],
     "language": "python",
     "metadata": {},
     "outputs": [
      {
       "output_type": "stream",
       "stream": "stdout",
       "text": [
        "SymPy version: 0.7.3\n",
        "NumPy version: 1.7.1\n"
       ]
      }
     ],
     "prompt_number": 2
    },
    {
     "cell_type": "code",
     "collapsed": false,
     "input": [
      "import numpy as np\n",
      "import numpy.ma as ma\n",
      "import matplotlib.pyplot as plt\n",
      "\n",
      "from sympy.solvers import solve\n",
      "from sympy.functions import exp\n",
      "from sympy import Symbol, Matrix\n",
      "\n",
      "from mpltools import style, layout\n",
      "style.use('ggplot')\n",
      "\n",
      "from sympy.interactive import ipythonprinting\n",
      "ipythonprinting.init_printing()"
     ],
     "language": "python",
     "metadata": {},
     "outputs": [],
     "prompt_number": 3
    },
    {
     "cell_type": "code",
     "collapsed": false,
     "input": [
      "c = Symbol('c')\n",
      "k = Symbol('k')"
     ],
     "language": "python",
     "metadata": {},
     "outputs": [],
     "prompt_number": 4
    },
    {
     "cell_type": "code",
     "collapsed": false,
     "input": [
      "A = Matrix([[-c + 1 / (2 * k), -exp(-k / 2) / k,  exp(-k) / (2 * k)],\n",
      "            [exp(-k / 2) / (2 * k), -1 / k + 1 / 2 - c, exp(-k / 2) / (2 * k)],\n",
      "            [exp(-k) / (2 * k), -exp(-k / 2) / (k), - c + 1 / (2 * k)]])\n",
      "A"
     ],
     "language": "python",
     "metadata": {},
     "outputs": [
      {
       "latex": [
        "$$\\left[\\begin{smallmatrix}{}- c + \\frac{1}{2 k} & - \\frac{e^{- \\frac{k}{2}}}{k} & \\frac{e^{- k}}{2 k}\\\\\\frac{e^{- \\frac{k}{2}}}{2 k} & - c + 0.5 - \\frac{1}{k} & \\frac{e^{- \\frac{k}{2}}}{2 k}\\\\\\frac{e^{- k}}{2 k} & - \\frac{e^{- \\frac{k}{2}}}{k} & - c + \\frac{1}{2 k}\\end{smallmatrix}\\right]$$"
       ],
       "metadata": {},
       "output_type": "pyout",
       "png": "[encoded data removed]",
       "prompt_number": 5,
       "text": [
        "\u23a1               -k               \u23a4\n",
        "\u23a2               \u2500\u2500\u2500              \u23a5\n",
        "\u23a2                2          -k   \u23a5\n",
        "\u23a2      1      -\u212f           \u212f     \u23a5\n",
        "\u23a2-c + \u2500\u2500\u2500     \u2500\u2500\u2500\u2500\u2500\u2500       \u2500\u2500\u2500   \u23a5\n",
        "\u23a2     2\u22c5k       k          2\u22c5k   \u23a5\n",
        "\u23a2                                \u23a5\n",
        "\u23a2   -k                      -k   \u23a5\n",
        "\u23a2   \u2500\u2500\u2500                     \u2500\u2500\u2500  \u23a5\n",
        "\u23a2    2                       2   \u23a5\n",
        "\u23a2  \u212f                  1    \u212f     \u23a5\n",
        "\u23a2  \u2500\u2500\u2500\u2500    -c + 0.5 - \u2500    \u2500\u2500\u2500\u2500  \u23a5\n",
        "\u23a2  2\u22c5k                k    2\u22c5k   \u23a5\n",
        "\u23a2                                \u23a5\n",
        "\u23a2               -k               \u23a5\n",
        "\u23a2               \u2500\u2500\u2500              \u23a5\n",
        "\u23a2   -k           2               \u23a5\n",
        "\u23a2  \u212f          -\u212f               1 \u23a5\n",
        "\u23a2  \u2500\u2500\u2500        \u2500\u2500\u2500\u2500\u2500\u2500     -c + \u2500\u2500\u2500\u23a5\n",
        "\u23a3  2\u22c5k          k             2\u22c5k\u23a6"
       ]
      }
     ],
     "prompt_number": 5
    },
    {
     "cell_type": "code",
     "collapsed": false,
     "input": [
      "det = A.det()\n",
      "det"
     ],
     "language": "python",
     "metadata": {},
     "outputs": [
      {
       "latex": [
        "$$- c^{3} + 0.5 c^{2} - \\frac{0.5 c}{k} + \\frac{3 c}{4 k^{2}} - \\frac{c}{k^{2}} e^{- k} + \\frac{c e^{- 2 k}}{4 k^{2}} + \\frac{0.125}{k^{2}} - \\frac{0.125}{k^{2}} e^{- 2 k} - \\frac{1}{4 k^{3}} + \\frac{e^{- k}}{2 k^{3}} - \\frac{e^{- 2 k}}{4 k^{3}}$$"
       ],
       "metadata": {},
       "output_type": "pyout",
       "png": "[encoded data removed]",
       "prompt_number": 6,
       "text": [
        "                                  -k      -2\u22c5k                  -2\u22c5k          \n",
        "   3        2   0.5\u22c5c   3\u22c5c    c\u22c5\u212f     c\u22c5\u212f       0.125   0.125\u22c5\u212f        1     \n",
        "- c  + 0.5\u22c5c  - \u2500\u2500\u2500\u2500\u2500 + \u2500\u2500\u2500\u2500 - \u2500\u2500\u2500\u2500\u2500 + \u2500\u2500\u2500\u2500\u2500\u2500\u2500 + \u2500\u2500\u2500\u2500\u2500 - \u2500\u2500\u2500\u2500\u2500\u2500\u2500\u2500\u2500\u2500\u2500 - \u2500\u2500\u2500\u2500 + \n",
        "                  k        2      2         2       2          2          3   \n",
        "                        4\u22c5k      k       4\u22c5k       k          k        4\u22c5k    \n",
        "\n",
        " -k     -2\u22c5k\n",
        "\u212f      \u212f    \n",
        "\u2500\u2500\u2500\u2500 - \u2500\u2500\u2500\u2500\u2500\n",
        "   3       3\n",
        "2\u22c5k     4\u22c5k "
       ]
      }
     ],
     "prompt_number": 6
    },
    {
     "cell_type": "code",
     "collapsed": false,
     "input": [
      "K = solve(det, c)\n",
      "K"
     ],
     "language": "python",
     "metadata": {},
     "outputs": [
      {
       "latex": [
        "$$\\begin{bmatrix}\\frac{0.25}{k^{2}} \\left(k^{2} e^{k} - k e^{k} + k - \\sqrt{k^{4} e^{2.0 k} - 2.0 k^{3} e^{k} - 6.0 k^{3} e^{2.0 k} - 10.0 k^{2} e^{k} + 9.0 k^{2} e^{2.0 k} + k^{2}}\\right) e^{- k}, & \\frac{0.25}{k^{2}} \\left(k^{2} e^{k} - k e^{k} + k + \\sqrt{k^{4} e^{2.0 k} - 2.0 k^{3} e^{k} - 6.0 k^{3} e^{2.0 k} - 10.0 k^{2} e^{k} + 9.0 k^{2} e^{2.0 k} + k^{2}}\\right) e^{- k}, & \\frac{0.5}{k} \\left(e^{k} - 1.0\\right) e^{- k}\\end{bmatrix}$$"
       ],
       "metadata": {},
       "output_type": "pyout",
       "png": "[encoded data removed]",
       "prompt_number": 7,
       "text": [
        "\u23a1     \u239b                      _________________________________________________\n",
        "\u23a2     \u239c 2  k      k         \u2571  4  2.0\u22c5k        3  k        3  2.0\u22c5k         2 \n",
        "\u23a20.25\u22c5\u239dk \u22c5\u212f  - k\u22c5\u212f  + k - \u2572\u2571  k \u22c5\u212f      - 2.0\u22c5k \u22c5\u212f  - 6.0\u22c5k \u22c5\u212f      - 10.0\u22c5k \u22c5\n",
        "\u23a2\u2500\u2500\u2500\u2500\u2500\u2500\u2500\u2500\u2500\u2500\u2500\u2500\u2500\u2500\u2500\u2500\u2500\u2500\u2500\u2500\u2500\u2500\u2500\u2500\u2500\u2500\u2500\u2500\u2500\u2500\u2500\u2500\u2500\u2500\u2500\u2500\u2500\u2500\u2500\u2500\u2500\u2500\u2500\u2500\u2500\u2500\u2500\u2500\u2500\u2500\u2500\u2500\u2500\u2500\u2500\u2500\u2500\u2500\u2500\u2500\u2500\u2500\u2500\u2500\u2500\u2500\u2500\u2500\u2500\u2500\u2500\u2500\u2500\u2500\u2500\u2500\u2500\n",
        "\u23a2                                                     2                       \n",
        "\u23a3                                                    k                        \n",
        "\n",
        "________________________\u239e           \u239b                      ___________________\n",
        " k        2  2.0\u22c5k    2 \u239f  -k       \u239c 2  k      k         \u2571  4  2.0\u22c5k        3\n",
        "\u212f  + 9.0\u22c5k \u22c5\u212f      + k  \u23a0\u22c5\u212f    0.25\u22c5\u239dk \u22c5\u212f  - k\u22c5\u212f  + k + \u2572\u2571  k \u22c5\u212f      - 2.0\u22c5k \n",
        "\u2500\u2500\u2500\u2500\u2500\u2500\u2500\u2500\u2500\u2500\u2500\u2500\u2500\u2500\u2500\u2500\u2500\u2500\u2500\u2500\u2500\u2500\u2500\u2500\u2500\u2500\u2500\u2500\u2500, \u2500\u2500\u2500\u2500\u2500\u2500\u2500\u2500\u2500\u2500\u2500\u2500\u2500\u2500\u2500\u2500\u2500\u2500\u2500\u2500\u2500\u2500\u2500\u2500\u2500\u2500\u2500\u2500\u2500\u2500\u2500\u2500\u2500\u2500\u2500\u2500\u2500\u2500\u2500\u2500\u2500\u2500\u2500\u2500\u2500\u2500\u2500\n",
        "                                                                              \n",
        "                                                                              \n",
        "\n",
        "______________________________________________________\u239e                       \n",
        "  k        3  2.0\u22c5k         2  k        2  2.0\u22c5k    2 \u239f  -k      \u239b k      \u239e  -\n",
        "\u22c5\u212f  - 6.0\u22c5k \u22c5\u212f      - 10.0\u22c5k \u22c5\u212f  + 9.0\u22c5k \u22c5\u212f      + k  \u23a0\u22c5\u212f    0.5\u22c5\u239d\u212f  - 1.0\u23a0\u22c5\u212f \n",
        "\u2500\u2500\u2500\u2500\u2500\u2500\u2500\u2500\u2500\u2500\u2500\u2500\u2500\u2500\u2500\u2500\u2500\u2500\u2500\u2500\u2500\u2500\u2500\u2500\u2500\u2500\u2500\u2500\u2500\u2500\u2500\u2500\u2500\u2500\u2500\u2500\u2500\u2500\u2500\u2500\u2500\u2500\u2500\u2500\u2500\u2500\u2500\u2500\u2500\u2500\u2500\u2500\u2500\u2500\u2500\u2500\u2500\u2500\u2500, \u2500\u2500\u2500\u2500\u2500\u2500\u2500\u2500\u2500\u2500\u2500\u2500\u2500\u2500\u2500\u2500\u2500\n",
        "      2                                                              k        \n",
        "     k                                                                        \n",
        "\n",
        " \u23a4\n",
        "k\u23a5\n",
        " \u23a5\n",
        "\u2500\u23a5\n",
        " \u23a5\n",
        " \u23a6"
       ]
      }
     ],
     "prompt_number": 7
    },
    {
     "cell_type": "code",
     "collapsed": false,
     "input": [
      "dk = np.arange(0.01, 2.5, 0.01)\n",
      "\n",
      "C1, C2, C3 = [], [], []\n",
      "\n",
      "for i in np.arange(np.size(dk)):\n",
      "    C1.append(K[0].subs(k, dk[i]))\n",
      "    C2.append(K[1].subs(k, dk[i]))\n",
      "    C3.append(K[2].subs(k, dk[i]))\n",
      "    \n",
      "C1, C2, C3 = map(lambda x: np.asanyarray(x, np.complex_), (C1, C2, C3))"
     ],
     "language": "python",
     "metadata": {},
     "outputs": [],
     "prompt_number": 8
    },
    {
     "cell_type": "code",
     "collapsed": false,
     "input": [
      "print(\"NaNs in C1: %s\" % np.isnan(C1).all())\n",
      "print(\"NaNs in C2: %s\" % np.isnan(C2).all())\n",
      "print(\"NaNs in C3: %s\" % np.isnan(C3).all())"
     ],
     "language": "python",
     "metadata": {},
     "outputs": [
      {
       "output_type": "stream",
       "stream": "stdout",
       "text": [
        "NaNs in C1: False\n",
        "NaNs in C2: False\n",
        "NaNs in C3: False\n"
       ]
      }
     ],
     "prompt_number": 9
    },
    {
     "cell_type": "code",
     "collapsed": false,
     "input": [
      "print(\"Complex in C1: %s\" % np.iscomplex(C1).all())\n",
      "print(\"Complex in C2: %s\" % np.iscomplex(C2).all())\n",
      "print(\"Complex in C3: %s\" % np.iscomplex(C3).all())"
     ],
     "language": "python",
     "metadata": {},
     "outputs": [
      {
       "output_type": "stream",
       "stream": "stdout",
       "text": [
        "Complex in C1: True\n",
        "Complex in C2: True\n",
        "Complex in C3: False\n"
       ]
      }
     ],
     "prompt_number": 10
    },
    {
     "cell_type": "code",
     "collapsed": false,
     "input": [
      "C3 = C3.real  # No need to be imaginary."
     ],
     "language": "python",
     "metadata": {},
     "outputs": [],
     "prompt_number": 11
    },
    {
     "cell_type": "code",
     "collapsed": false,
     "input": [
      "fig, ax = plt.subplots()\n",
      "l1, = ax.plot(dk, C1.real, ':', label='C1')\n",
      "l2, = ax.plot(dk, C2.real, '--', label='C2')\n",
      "l3, = ax.plot(dk, C3, '-', label='C3')\n",
      "ax.legend()\n",
      "ax.margins(0)\n",
      "_ = layout.cross_spines(ax=ax)"
     ],
     "language": "python",
     "metadata": {},
     "outputs": [
      {
       "metadata": {},
       "output_type": "display_data",
       "png": "[encoded data removed]",
       "text": [
        "<matplotlib.figure.Figure at 0x4b18810>"
       ]
      }
     ],
     "prompt_number": 12
    },
    {
     "cell_type": "code",
     "collapsed": false,
     "input": [
      "fig, ax = plt.subplots()\n",
      "l1, = ax.plot(dk, C1.imag, '-,', label='C1')\n",
      "l2, = ax.plot(dk, C2.imag, '--', label='C2')\n",
      "l3, = ax.plot(dk, C3, '-', label='C3')\n",
      "ax.legend()\n",
      "ax.margins(0)\n",
      "_ = layout.cross_spines(ax=ax)"
     ],
     "language": "python",
     "metadata": {},
     "outputs": [
      {
       "metadata": {},
       "output_type": "display_data",
       "png": "[encoded data removed]",
       "text": [
        "<matplotlib.figure.Figure at 0x64e3fd0>"
       ]
      }
     ],
     "prompt_number": 13
    }
   ],
   "metadata": {}
  }
 ]
}