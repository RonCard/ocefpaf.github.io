{
 "metadata": {
  "name": ""
 },
 "nbformat": 3,
 "nbformat_minor": 0,
 "worksheets": [
  {
   "cells": [
    {
     "cell_type": "code",
     "collapsed": false,
     "input": [
      "from IPython.core.display import HTML\n",
      "def css_styling():\n",
      "    styles = open(\"./styles/custom.css\", \"r\").read()\n",
      "    return HTML(styles)\n",
      "css_styling()"
     ],
     "language": "python",
     "metadata": {},
     "outputs": [
      {
       "html": [
        "<style>\n",
        "    @font-face {\n",
        "        font-family: \"Computer Modern\";\n",
        "        src: url('http://mirrors.ctan.org/fonts/cm-unicode/fonts/otf/cmunss.otf');\n",
        "    }\n",
        "    div.cell{\n",
        "        width:800px;\n",
        "/*        margin-left:16% !important;\n",
        "        margin-right:auto;*/\n",
        "        margin-left:auto;\n",
        "        margin-right:16% !important;\n",
        "    }\n",
        "    h1 {\n",
        "        font-family: Helvetica, serif;\n",
        "    }\n",
        "    h2 {\n",
        "        font-family: Helvetica, serif;\n",
        "    }\n",
        "    h4{\n",
        "        margin-top:12px;\n",
        "        margin-bottom: 3px;\n",
        "       }\n",
        "    div.text_cell_render{\n",
        "        font-family: Computer Modern, \"Helvetica Neue\", Arial, Helvetica, Geneva, sans-serif;\n",
        "        line-height: 135%;\n",
        "        font-size: 120%;\n",
        "        width:600px;\n",
        "        margin-left:auto;\n",
        "        margin-right:auto;\n",
        "    }\n",
        "    .CodeMirror{\n",
        "            font-family: \"Source Code Pro\", source-code-pro,Consolas, monospace;\n",
        "    }\n",
        "/*    .prompt{\n",
        "        display: None;\n",
        "    }*/\n",
        "    .text_cell_render h5 {\n",
        "        font-weight: 300;\n",
        "        font-size: 16pt;\n",
        "        color: #4057A1;\n",
        "        font-style: italic;\n",
        "        margin-bottom: .5em;\n",
        "        margin-top: 0.5em;\n",
        "        display: block;\n",
        "    }\n",
        "\n",
        "    .warning{\n",
        "        color: rgb( 240, 20, 20 )\n",
        "        }\n",
        "</style>\n",
        "<script>\n",
        "    MathJax.Hub.Config({\n",
        "                        TeX: {\n",
        "                           extensions: [\"AMSmath.js\"]\n",
        "                           },\n",
        "                tex2jax: {\n",
        "                    inlineMath: [ ['$','$'], [\"\\\\(\",\"\\\\)\"] ],\n",
        "                    displayMath: [ ['$$','$$'], [\"\\\\[\",\"\\\\]\"] ]\n",
        "                },\n",
        "                displayAlign: 'center', // Change this to 'center' to center equations.\n",
        "                \"HTML-CSS\": {\n",
        "                    styles: {'.MathJax_Display': {\"margin\": 4}}\n",
        "                }\n",
        "        });\n",
        "</script>\n"
       ],
       "metadata": {},
       "output_type": "pyout",
       "prompt_number": 9,
       "text": [
        "<IPython.core.display.HTML at 0x2e27250>"
       ]
      }
     ],
     "prompt_number": 9
    },
    {
     "cell_type": "heading",
     "level": 1,
     "metadata": {},
     "source": [
      "Reading custom binaries"
     ]
    },
    {
     "cell_type": "markdown",
     "metadata": {},
     "source": [
      "*This notebook was originally a post by Filipe Fernandes on*\n",
      "[*python4oceanographers*](http://ocefpaf.github.io/)"
     ]
    },
    {
     "cell_type": "markdown",
     "metadata": {},
     "source": [
      "<!-- PELICAN_BEGIN_SUMMARY -->\n",
      "Every now and then we stumble upon some wierd custom binary file containing that precious piece of data.  This post show how to read the most wierd one I've see so far.\n",
      "<!-- PELICAN_END_SUMMARY -->"
     ]
    },
    {
     "cell_type": "markdown",
     "metadata": {},
     "source": [
      "My former advisor had all his data stored in a custom binary format he called \"OASP\" (instead of using the wonderful, machine independent, feature rich [netcdf](http://cf-pcmdi.llnl.gov/) with climate and forecast metadata that we all should be using!).  \n",
      "\n",
      "His programs to read such data were not working anymore due to [endianness](http://en.wikipedia.org/wiki/Endianness) issues.  Therefore, to read that data (and hopefully graduate one day) I had workaround these issues relying heavily on numpy [fromfile](http://docs.scipy.org/doc/numpy/reference/generated/numpy.fromfile.html) function."
     ]
    },
    {
     "cell_type": "code",
     "collapsed": false,
     "input": [
      "import numpy as np"
     ],
     "language": "python",
     "metadata": {},
     "outputs": [],
     "prompt_number": 1
    },
    {
     "cell_type": "markdown",
     "metadata": {},
     "source": [
      "Let's define two quick functions to deal with the time standard used in the binary files..."
     ]
    },
    {
     "cell_type": "code",
     "collapsed": false,
     "input": [
      "from netCDF4 import netcdftime\n",
      "from datetime import timedelta\n",
      "\n",
      "def jhour2datetime(jhours):\n",
      "    \"\"\"Convert OASP Julian hours to datetime object.\n",
      "    Uses netcdftime.DateFromJulianDay\n",
      "                        jhours-12\n",
      "    datetime_object =  ----------- + offset\n",
      "                           24.0\n",
      "\n",
      "    OASP is offsetted by 241502 days to match netcdftime.DateFromJulianDay,\n",
      "    and 12 hours are added to make it start at midnight instead of noon.\n",
      "\n",
      "    Example\n",
      "    --------\n",
      "    >>> oaspy.jhour2datetime([859296, 859928])\n",
      "    [datetime.datetime(1998, 1, 11, 0, 0), datetime.datetime(1998, 2, 6, 8, 0)]\n",
      "    \"\"\"\n",
      "    offset = 2415021\n",
      "    if isinstance(jhours,list):\n",
      "        jhours = (np.array(jhours)-12)/24.\n",
      "        jdate  = ([netcdftime.DateFromJulianDay(jhours[d]+offset) for d in\n",
      "                   range(len(jhours))])\n",
      "    else:\n",
      "        jhours = (jhours-12)/24.\n",
      "        jdate  = netcdftime.DateFromJulianDay(jhours+offset)\n",
      "    return jdate\n",
      "\n",
      "\n",
      "def datetime2jhour(dtimeobj):\n",
      "    \"\"\"Convert datetime object to OASP Julian hours using.\n",
      "    Uses netcdftime.JulianDayFromDate.\n",
      "    See jhour2datetime for details.\n",
      "\n",
      "    Example\n",
      "    -------\n",
      "    >>> oaspy.datetime2jhour([datetime.datetime(1998, 1, 11, 0, 0), datetime.datetime(1998, 2, 6, 8, 0)])\n",
      "    array([ 859296.,  859928.])\n",
      "    \"\"\"\n",
      "    offset = 2415021\n",
      "\n",
      "    if isinstance(dtimeobj,list):\n",
      "        jhours = ([netcdftime.JulianDayFromDate(dtimeobj[d])-offset for d in\n",
      "                   range(len(dtimeobj))])\n",
      "    else:\n",
      "        jhours = netcdftime.JulianDayFromDate(dtimeobj)-offset\n",
      "\n",
      "    jhours = np.array(jhours)\n",
      "    jhours = (jhours*24.)+12\n",
      "    return jhours"
     ],
     "language": "python",
     "metadata": {},
     "outputs": [],
     "prompt_number": 2
    },
    {
     "cell_type": "markdown",
     "metadata": {},
     "source": [
      "... and create a class akin to `netCDF4` Dataset to read the binary file."
     ]
    },
    {
     "cell_type": "code",
     "collapsed": false,
     "input": [
      "class Dataset(object):\n",
      "    \"\"\"Read OASP binary format and store in a object with:\n",
      "        filename\n",
      "        header\n",
      "        data\n",
      "        dates\n",
      "        stats\n",
      "        parameter file\n",
      "    \"\"\"\n",
      "\n",
      "    def __init__(self, filename, endianess='big'):\n",
      "        \"\"\"Read a OASP binary file\n",
      "        > means Big-endian\n",
      "        c  -> character\n",
      "        f8 -> float64 (double precision)\n",
      "        i4 -> interger32\n",
      "        f4 -> float32\n",
      "        \"\"\"\n",
      "        self.filename = filename\n",
      "        self.header = ''\n",
      "        self.data = []\n",
      "        self.dates = []\n",
      "        self.stats = ''\n",
      "        self.par = ''\n",
      "        if endianess == 'big':\n",
      "            en = '>'\n",
      "        elif endianess == 'little':\n",
      "            en = '<'\n",
      "        else:\n",
      "            raise ValueError(\"Cannot determine endianess. Try 'big' or 'little'.\")\n",
      "\n",
      "        with open(filename, 'rb') as f:\n",
      "            # 38 characters for header.\n",
      "            header = list(np.fromfile(f, '%sc' % en, count=38))\n",
      "            # date[1] and date[3] start/end in oasp julian hours.\n",
      "            jhours = np.fromfile(f, '%sf8' % en, count=4)[1::2]\n",
      "            # rec[2] -> record length.\n",
      "            rec = np.fromfile(f, '%si4' % en, count=3)[2]\n",
      "            # inc[1] -> record time increment in hours.\n",
      "            inc = np.fromfile(f, '%sf8' % en, count=2)[1]\n",
      "            start = jhour2datetime(jhours[0])\n",
      "            end = jhour2datetime(jhours[1])\n",
      "            # From start date to record number using increment.\n",
      "            self.dates = np.asanyarray([start + timedelta(hours=inc*n) for\n",
      "                                        n in range(rec)])\n",
      "            # Remove newline and file creation dates.\n",
      "            self.header += \"filename:      %s\" % ''.join(header)[1:13]\n",
      "            self.header += (\"creation date: \" + ''.join(header)[13:21] +\n",
      "                            \"   \" + ''.join(header)[21:])\n",
      "            self.header += \"\\n\" + \"start date:    \" + str(self.dates[0])\n",
      "            self.header += \"\\n\" + \"end date:      \" + str(self.dates[-1])\n",
      "            self.header += \"\\n\" + \"increment:     \" + str(inc)\n",
      "            self.header += \"\\n\" + \"record length  \" + str(rec)\n",
      "            # Data eliminating Fortran \"record\".\n",
      "            self.data = np.fromfile(f, '%sf4' % en, count=rec*3)[2::3]\n",
      "            # Basic stats.\n",
      "            self.stats = \"%s: %.2f\" % (\"Max\",  self.data.max())\n",
      "            self.stats += \"%s: %.2f\" % (\"\\nMin\",  self.data.min())\n",
      "            self.stats += \"%s: %.2f\" % (\"\\nMean\", self.data.mean())\n",
      "            self.stats += \"%s: %.2f\" % (\"\\nMedian\", np.median(self.data))\n",
      "            self.stats += \"%s: %.2f\" % (\"\\nStd\", self.data.std())\n",
      "            # Parameter file.\n",
      "            self.par += \"y\\n\"\n",
      "            self.par += filename + \".asc\\n\"\n",
      "            self.par += '1' + \"\\n\"\n",
      "            self.par += '1' + \"\\n\"\n",
      "            self.par += '3' + \"\\n\"\n",
      "            self.par += '0' + \"\\n\"\n",
      "            self.par += str(jhours[0])+ \"\\n\"\n",
      "            self.par += str(inc)+ \"\\n\"\n",
      "            self.par += \"1,\" + filename + \"\\n\"\n",
      "            self.par += '0' + \"\\n\"\n",
      "            self.par += \"$$\""
     ],
     "language": "python",
     "metadata": {},
     "outputs": [],
     "prompt_number": 3
    },
    {
     "cell_type": "code",
     "collapsed": false,
     "input": [
      "wbsst = Dataset('./data/wbsst.bin')"
     ],
     "language": "python",
     "metadata": {},
     "outputs": [],
     "prompt_number": 4
    },
    {
     "cell_type": "markdown",
     "metadata": {},
     "source": [
      "Let's checkout the file header:"
     ]
    },
    {
     "cell_type": "code",
     "collapsed": false,
     "input": [
      "print(wbsst.header)"
     ],
     "language": "python",
     "metadata": {},
     "outputs": [
      {
       "output_type": "stream",
       "stream": "stdout",
       "text": [
        "filename:      WBsst.bin \n",
        "\u0010creation date: 04/12/**   10:02:13\n",
        "start date:    1998-01-10 22:00:00\n",
        "end date:      1998-02-06 08:00:00\n",
        "increment:     0.5\n",
        "record length  1269\n"
       ]
      }
     ],
     "prompt_number": 5
    },
    {
     "cell_type": "markdown",
     "metadata": {},
     "source": [
      "Some information regarding the data:"
     ]
    },
    {
     "cell_type": "code",
     "collapsed": false,
     "input": [
      "print(wbsst.stats)"
     ],
     "language": "python",
     "metadata": {},
     "outputs": [
      {
       "output_type": "stream",
       "stream": "stdout",
       "text": [
        "Max: 6.66\n",
        "Min: 4.52\n",
        "Mean: 5.74\n",
        "Median: 5.67\n",
        "Std: 0.67\n"
       ]
      }
     ],
     "prompt_number": 6
    },
    {
     "cell_type": "markdown",
     "metadata": {},
     "source": [
      "And finally let's see the data!"
     ]
    },
    {
     "cell_type": "code",
     "collapsed": false,
     "input": [
      "from mpltools import style\n",
      "style.use(\"ggplot\")\n",
      "\n",
      "fig, ax = plt.subplots(figsize=(12, 6))\n",
      "_ = ax.plot(wbsst.dates, wbsst.data)\n",
      "_ = ax.set_ylabel(r\"Air Temperature [$^\\circ$C]\")"
     ],
     "language": "python",
     "metadata": {},
     "outputs": [
      {
       "metadata": {},
       "output_type": "display_data",
       "png": "[encoded data removed]",
       "text": [
        "<matplotlib.figure.Figure at 0x2b59390>"
       ]
      }
     ],
     "prompt_number": 7
    },
    {
     "cell_type": "markdown",
     "metadata": {},
     "source": [
      "The class also create the original parameter file used in the create of the binary."
     ]
    },
    {
     "cell_type": "code",
     "collapsed": false,
     "input": [
      "print(wbsst.par)"
     ],
     "language": "python",
     "metadata": {},
     "outputs": [
      {
       "output_type": "stream",
       "stream": "stdout",
       "text": [
        "y\n",
        "./data/wbsst.bin.asc\n",
        "1\n",
        "1\n",
        "3\n",
        "0\n",
        "859294.0\n",
        "0.5\n",
        "1,./data/wbsst.bin\n",
        "0\n",
        "$$\n"
       ]
      }
     ],
     "prompt_number": 8
    },
    {
     "cell_type": "markdown",
     "metadata": {},
     "source": [
      "*This post was written entirely as an IPython notebook. The full notebook can be downloaded*\n",
      "[*here*](http://ocefpaf.github.io/downloads/notebooks/custom-binaries.ipynb),\n",
      "*or viewed statically on*\n",
      "[*nbviewer*](http://nbviewer.ipython.org/url/ocefpaf.github.io/downloads/notebooks/custom-binaries.ipynb)"
     ]
    }
   ],
   "metadata": {}
  }
 ]
}